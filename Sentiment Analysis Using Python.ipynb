{
 "cells": [
  {
   "cell_type": "code",
   "execution_count": 1,
   "metadata": {},
   "outputs": [],
   "source": [
    "# Cleaning Text Steps\n",
    "# Create a text file and take text from it\n",
    "# Convert the letter into lowercase (Apple is not equal to apple)\n",
    "# Reomove Punctuations like .,!? etc"
   ]
  },
  {
   "cell_type": "code",
   "execution_count": 2,
   "metadata": {},
   "outputs": [],
   "source": [
    "# Package import\n",
    "import string\n",
    "from collections import Counter\n",
    "import matplotlib.pyplot as plt"
   ]
  },
  {
   "cell_type": "code",
   "execution_count": 3,
   "metadata": {},
   "outputs": [
    {
     "name": "stdout",
     "output_type": "stream",
     "text": [
      "donald trump’s rambling appearance at the white house on thursday night was rife with lies paranoia conspiracy theories selfpity and attacks on our democracy — none of which was what made it a strikingly deranged and menacing performance after all those have been hallmarks of his fiveyear political career instead what distinguished his first appearance since the wee hours of election night was the sense that the man who will occupy the highest office in the land for nearly 11 more weeks is unhinged untethered uninhibited and desperate in completely new ways\n",
      "\n",
      "apparently reading prepared remarks trump started by congratulating himself and his party for unparalleled victories he hadn’t achieved before falsely accusing democrats of rigging the election in a cabal that doesn’t exist with the media pollsters and “big tech” — never mind that this scheme apparently left them with a smaller house majority and senate majority leader mitch mcconnell he once again assailed votingbymail of which he has availed himself decried imaginary corruption and fabricated instances of fraud\n",
      "\n",
      "“i’ve read or watched all of trumps speeches since 2016” daniel dale cnn’s ace trump factchecker tweeted afterward “this is the most dishonest speech he has ever given” it may also be the most dangerous\n",
      "\n",
      "want more articles like this follow think on instagram to get updates on the weeks most important political analysis\n",
      "there was a whiff of richard nixon about the thing — not the maudlin rambling of tricky dick’s farewell speech to the white house staff but the liberated pugilism of his famous “last press conference” where he warned the media that “you won’t have nixon to kick around anymore” except trump took the opposite tack instead of stalking into shadows he swore to stand his ground — and burn it behind him\n",
      "it was perhaps the first flares of his last campaign in his great war on washington — one of scorched earth and settled scores he laid down markers and once again demanded that the rest of the gop and its allies fall in line as the supposed alpha male of us politics trump could once use the fear of his wrath his twitter account and his base to command republicans’ loyalty but he is now a loser with an enddate lines are being drawn even within the party\n",
      "\n",
      "trump’s adult sons have positioned themselves as daddy’s chief loyalty officers calling out republicans both in general and by name for not manning the ramparts a handful have spoken up for calm patience and democracy — but most are laying low trying to skate by the latest trump outrage as they largely have for four years others are seemingly prepared abet trump’s political pyromania california’s kevin mccarthy the vapid house republican leader declared on fox news that trump had won the election and exhorted viewers to “not be silent about this”\n",
      "\n",
      "even short of such a direct threat to our system trump’s ravings are now actively harming our republic\n",
      "\n",
      "sen lindsey graham rsc assumed a familiar posture of supplication too asked by fox’s sean hannity whether gopcontrolled legislatures in states that biden seemingly won should award the state’s electors to trump instead he responded that “everything should be on the table”\n",
      "\n",
      "that would be a historic and frontal assault on the foundational concept that ours is a government of the people for the people and by the people the fact that it’s already moved from the far fringes onto fox news — the mainstream media of the right — is horrifying\n",
      "\n",
      "but even short of such a direct threat to our system trump’s ravings are now actively harming our republic nearly 70 million americans cast ballots for this narcissistic nihilist and in the absence of his success a nontrivial number will grimly choose their dear leader over their own lying eyes you can see it in the protests at votecounting sites in michigan and arizona the legions desperate and angry enough to absorb whatever bile trump feeds them you can see it in reports of philadelphia police thursday night foiling an attack on votecounters there\n",
      "\n",
      "\n",
      "“there is one essential institution in this country one rampart that separates order from chaos and its the ballot box” politico’s tim alberta tweeted thursday adding the warning “we cannot begin to fathom how much damage that speech will do to the longterm health and stability of our country”\n",
      "\n",
      "recommended\n",
      "\n",
      "opinion\n",
      "i fled a dictatorship so my vote would count bidens win proves it did\n",
      "\n",
      "opinion\n",
      "legally trump doesnt have to concede — symbolically its vital he does anyway\n",
      "but we could have known it would come to this\n",
      "\n",
      "trump has never changed — not since tuesday and not since he assumed the presidency he is still the same blustering bullying carnivalbarker who is indifferent to facts and truth he still thinks that anything less than fawning adulation is a slight that must be met with a counterpunch he’s still the ultimate norman vincent peale powerofpositivethinking huckster whose salespitch is his own unstoppable success\n"
     ]
    }
   ],
   "source": [
    "# reading text file\n",
    "text = open('C:/Users/HP/Sentiment Analysis/read.txt',encoding='utf-8').read()\n",
    "\n",
    "# converting to lowercase\n",
    "lower_case = text.lower()\n",
    "\n",
    "# Removing punctuations\n",
    "cleaned_text = lower_case.translate(str.maketrans('', '', string.punctuation))\n",
    "#1st str species the char need to be replaced\n",
    "# 2nd str the char which need to be replaced\n",
    "# 3rd the char that need to be deleted \n",
    "print(cleaned_text)\n",
    "#print(string.punctuation)"
   ]
  },
  {
   "cell_type": "code",
   "execution_count": 4,
   "metadata": {},
   "outputs": [
    {
     "name": "stdout",
     "output_type": "stream",
     "text": [
      "['donald', 'trump’s', 'rambling', 'appearance', 'at', 'the', 'white', 'house', 'on', 'thursday', 'night', 'was', 'rife', 'with', 'lies', 'paranoia', 'conspiracy', 'theories', 'selfpity', 'and', 'attacks', 'on', 'our', 'democracy', '—', 'none', 'of', 'which', 'was', 'what', 'made', 'it', 'a', 'strikingly', 'deranged', 'and', 'menacing', 'performance', 'after', 'all', 'those', 'have', 'been', 'hallmarks', 'of', 'his', 'fiveyear', 'political', 'career', 'instead', 'what', 'distinguished', 'his', 'first', 'appearance', 'since', 'the', 'wee', 'hours', 'of', 'election', 'night', 'was', 'the', 'sense', 'that', 'the', 'man', 'who', 'will', 'occupy', 'the', 'highest', 'office', 'in', 'the', 'land', 'for', 'nearly', '11', 'more', 'weeks', 'is', 'unhinged', 'untethered', 'uninhibited', 'and', 'desperate', 'in', 'completely', 'new', 'ways', 'apparently', 'reading', 'prepared', 'remarks', 'trump', 'started', 'by', 'congratulating', 'himself', 'and', 'his', 'party', 'for', 'unparalleled', 'victories', 'he', 'hadn’t', 'achieved', 'before', 'falsely', 'accusing', 'democrats', 'of', 'rigging', 'the', 'election', 'in', 'a', 'cabal', 'that', 'doesn’t', 'exist', 'with', 'the', 'media', 'pollsters', 'and', '“big', 'tech”', '—', 'never', 'mind', 'that', 'this', 'scheme', 'apparently', 'left', 'them', 'with', 'a', 'smaller', 'house', 'majority', 'and', 'senate', 'majority', 'leader', 'mitch', 'mcconnell', 'he', 'once', 'again', 'assailed', 'votingbymail', 'of', 'which', 'he', 'has', 'availed', 'himself', 'decried', 'imaginary', 'corruption', 'and', 'fabricated', 'instances', 'of', 'fraud', '“i’ve', 'read', 'or', 'watched', 'all', 'of', 'trumps', 'speeches', 'since', '2016”', 'daniel', 'dale', 'cnn’s', 'ace', 'trump', 'factchecker', 'tweeted', 'afterward', '“this', 'is', 'the', 'most', 'dishonest', 'speech', 'he', 'has', 'ever', 'given”', 'it', 'may', 'also', 'be', 'the', 'most', 'dangerous', 'want', 'more', 'articles', 'like', 'this', 'follow', 'think', 'on', 'instagram', 'to', 'get', 'updates', 'on', 'the', 'weeks', 'most', 'important', 'political', 'analysis', 'there', 'was', 'a', 'whiff', 'of', 'richard', 'nixon', 'about', 'the', 'thing', '—', 'not', 'the', 'maudlin', 'rambling', 'of', 'tricky', 'dick’s', 'farewell', 'speech', 'to', 'the', 'white', 'house', 'staff', 'but', 'the', 'liberated', 'pugilism', 'of', 'his', 'famous', '“last', 'press', 'conference”', 'where', 'he', 'warned', 'the', 'media', 'that', '“you', 'won’t', 'have', 'nixon', 'to', 'kick', 'around', 'anymore”', 'except', 'trump', 'took', 'the', 'opposite', 'tack', 'instead', 'of', 'stalking', 'into', 'shadows', 'he', 'swore', 'to', 'stand', 'his', 'ground', '—', 'and', 'burn', 'it', 'behind', 'him', 'it', 'was', 'perhaps', 'the', 'first', 'flares', 'of', 'his', 'last', 'campaign', 'in', 'his', 'great', 'war', 'on', 'washington', '—', 'one', 'of', 'scorched', 'earth', 'and', 'settled', 'scores', 'he', 'laid', 'down', 'markers', 'and', 'once', 'again', 'demanded', 'that', 'the', 'rest', 'of', 'the', 'gop', 'and', 'its', 'allies', 'fall', 'in', 'line', 'as', 'the', 'supposed', 'alpha', 'male', 'of', 'us', 'politics', 'trump', 'could', 'once', 'use', 'the', 'fear', 'of', 'his', 'wrath', 'his', 'twitter', 'account', 'and', 'his', 'base', 'to', 'command', 'republicans’', 'loyalty', 'but', 'he', 'is', 'now', 'a', 'loser', 'with', 'an', 'enddate', 'lines', 'are', 'being', 'drawn', 'even', 'within', 'the', 'party', 'trump’s', 'adult', 'sons', 'have', 'positioned', 'themselves', 'as', 'daddy’s', 'chief', 'loyalty', 'officers', 'calling', 'out', 'republicans', 'both', 'in', 'general', 'and', 'by', 'name', 'for', 'not', 'manning', 'the', 'ramparts', 'a', 'handful', 'have', 'spoken', 'up', 'for', 'calm', 'patience', 'and', 'democracy', '—', 'but', 'most', 'are', 'laying', 'low', 'trying', 'to', 'skate', 'by', 'the', 'latest', 'trump', 'outrage', 'as', 'they', 'largely', 'have', 'for', 'four', 'years', 'others', 'are', 'seemingly', 'prepared', 'abet', 'trump’s', 'political', 'pyromania', 'california’s', 'kevin', 'mccarthy', 'the', 'vapid', 'house', 'republican', 'leader', 'declared', 'on', 'fox', 'news', 'that', 'trump', 'had', 'won', 'the', 'election', 'and', 'exhorted', 'viewers', 'to', '“not', 'be', 'silent', 'about', 'this”', 'even', 'short', 'of', 'such', 'a', 'direct', 'threat', 'to', 'our', 'system', 'trump’s', 'ravings', 'are', 'now', 'actively', 'harming', 'our', 'republic', 'sen', 'lindsey', 'graham', 'rsc', 'assumed', 'a', 'familiar', 'posture', 'of', 'supplication', 'too', 'asked', 'by', 'fox’s', 'sean', 'hannity', 'whether', 'gopcontrolled', 'legislatures', 'in', 'states', 'that', 'biden', 'seemingly', 'won', 'should', 'award', 'the', 'state’s', 'electors', 'to', 'trump', 'instead', 'he', 'responded', 'that', '“everything', 'should', 'be', 'on', 'the', 'table”', 'that', 'would', 'be', 'a', 'historic', 'and', 'frontal', 'assault', 'on', 'the', 'foundational', 'concept', 'that', 'ours', 'is', 'a', 'government', 'of', 'the', 'people', 'for', 'the', 'people', 'and', 'by', 'the', 'people', 'the', 'fact', 'that', 'it’s', 'already', 'moved', 'from', 'the', 'far', 'fringes', 'onto', 'fox', 'news', '—', 'the', 'mainstream', 'media', 'of', 'the', 'right', '—', 'is', 'horrifying', 'but', 'even', 'short', 'of', 'such', 'a', 'direct', 'threat', 'to', 'our', 'system', 'trump’s', 'ravings', 'are', 'now', 'actively', 'harming', 'our', 'republic', 'nearly', '70', 'million', 'americans', 'cast', 'ballots', 'for', 'this', 'narcissistic', 'nihilist', 'and', 'in', 'the', 'absence', 'of', 'his', 'success', 'a', 'nontrivial', 'number', 'will', 'grimly', 'choose', 'their', 'dear', 'leader', 'over', 'their', 'own', 'lying', 'eyes', 'you', 'can', 'see', 'it', 'in', 'the', 'protests', 'at', 'votecounting', 'sites', 'in', 'michigan', 'and', 'arizona', 'the', 'legions', 'desperate', 'and', 'angry', 'enough', 'to', 'absorb', 'whatever', 'bile', 'trump', 'feeds', 'them', 'you', 'can', 'see', 'it', 'in', 'reports', 'of', 'philadelphia', 'police', 'thursday', 'night', 'foiling', 'an', 'attack', 'on', 'votecounters', 'there', '“there', 'is', 'one', 'essential', 'institution', 'in', 'this', 'country', 'one', 'rampart', 'that', 'separates', 'order', 'from', 'chaos', 'and', 'its', 'the', 'ballot', 'box”', 'politico’s', 'tim', 'alberta', 'tweeted', 'thursday', 'adding', 'the', 'warning', '“we', 'cannot', 'begin', 'to', 'fathom', 'how', 'much', 'damage', 'that', 'speech', 'will', 'do', 'to', 'the', 'longterm', 'health', 'and', 'stability', 'of', 'our', 'country”', 'recommended', 'opinion', 'i', 'fled', 'a', 'dictatorship', 'so', 'my', 'vote', 'would', 'count', 'bidens', 'win', 'proves', 'it', 'did', 'opinion', 'legally', 'trump', 'doesnt', 'have', 'to', 'concede', '—', 'symbolically', 'its', 'vital', 'he', 'does', 'anyway', 'but', 'we', 'could', 'have', 'known', 'it', 'would', 'come', 'to', 'this', 'trump', 'has', 'never', 'changed', '—', 'not', 'since', 'tuesday', 'and', 'not', 'since', 'he', 'assumed', 'the', 'presidency', 'he', 'is', 'still', 'the', 'same', 'blustering', 'bullying', 'carnivalbarker', 'who', 'is', 'indifferent', 'to', 'facts', 'and', 'truth', 'he', 'still', 'thinks', 'that', 'anything', 'less', 'than', 'fawning', 'adulation', 'is', 'a', 'slight', 'that', 'must', 'be', 'met', 'with', 'a', 'counterpunch', 'he’s', 'still', 'the', 'ultimate', 'norman', 'vincent', 'peale', 'powerofpositivethinking', 'huckster', 'whose', 'salespitch', 'is', 'his', 'own', 'unstoppable', 'success']\n"
     ]
    }
   ],
   "source": [
    "# Tokenization\n",
    "# splitting text into words\n",
    "tokenized_words= cleaned_text.split()\n",
    "print(tokenized_words)"
   ]
  },
  {
   "cell_type": "code",
   "execution_count": 5,
   "metadata": {},
   "outputs": [],
   "source": [
    "# Stop words\n",
    "stop_words = [\"i\", \"me\", \"my\", \"myself\", \"we\", \"our\", \"ours\", \"ourselves\", \"you\", \"your\", \"yours\", \"yourself\",\n",
    "              \"yourselves\", \"he\", \"him\", \"his\", \"himself\", \"she\", \"her\", \"hers\", \"herself\", \"it\", \"its\", \"itself\",\n",
    "              \"they\", \"them\", \"their\", \"theirs\", \"themselves\", \"what\", \"which\", \"who\", \"whom\", \"this\", \"that\", \"these\",\n",
    "              \"those\", \"am\", \"is\", \"are\", \"was\", \"were\", \"be\", \"been\", \"being\", \"have\", \"has\", \"had\", \"having\", \"do\",\n",
    "              \"does\", \"did\", \"doing\", \"a\", \"an\", \"the\", \"and\", \"but\", \"if\", \"or\", \"because\", \"as\", \"until\", \"while\",\n",
    "              \"of\", \"at\", \"by\", \"for\", \"with\", \"about\", \"against\", \"between\", \"into\", \"through\", \"during\", \"before\",\n",
    "              \"after\", \"above\", \"below\", \"to\", \"from\", \"up\", \"down\", \"in\", \"out\", \"on\", \"off\", \"over\", \"under\", \"again\",\n",
    "              \"further\", \"then\", \"once\", \"here\", \"there\", \"when\", \"where\", \"why\", \"how\", \"all\", \"any\", \"both\", \"each\",\n",
    "              \"few\", \"more\", \"most\", \"other\", \"some\", \"such\", \"no\", \"nor\", \"not\", \"only\", \"own\", \"same\", \"so\", \"than\",\n",
    "              \"too\", \"very\", \"s\", \"t\", \"can\", \"will\", \"just\", \"don\", \"should\", \"now\"]\n"
   ]
  },
  {
   "cell_type": "code",
   "execution_count": 6,
   "metadata": {},
   "outputs": [
    {
     "name": "stdout",
     "output_type": "stream",
     "text": [
      "['donald', 'trump’s', 'rambling', 'appearance', 'white', 'house', 'thursday', 'night', 'rife', 'lies', 'paranoia', 'conspiracy', 'theories', 'selfpity', 'attacks', 'democracy', '—', 'none', 'made', 'strikingly', 'deranged', 'menacing', 'performance', 'hallmarks', 'fiveyear', 'political', 'career', 'instead', 'distinguished', 'first', 'appearance', 'since', 'wee', 'hours', 'election', 'night', 'sense', 'man', 'occupy', 'highest', 'office', 'land', 'nearly', '11', 'weeks', 'unhinged', 'untethered', 'uninhibited', 'desperate', 'completely', 'new', 'ways', 'apparently', 'reading', 'prepared', 'remarks', 'trump', 'started', 'congratulating', 'party', 'unparalleled', 'victories', 'hadn’t', 'achieved', 'falsely', 'accusing', 'democrats', 'rigging', 'election', 'cabal', 'doesn’t', 'exist', 'media', 'pollsters', '“big', 'tech”', '—', 'never', 'mind', 'scheme', 'apparently', 'left', 'smaller', 'house', 'majority', 'senate', 'majority', 'leader', 'mitch', 'mcconnell', 'assailed', 'votingbymail', 'availed', 'decried', 'imaginary', 'corruption', 'fabricated', 'instances', 'fraud', '“i’ve', 'read', 'watched', 'trumps', 'speeches', 'since', '2016”', 'daniel', 'dale', 'cnn’s', 'ace', 'trump', 'factchecker', 'tweeted', 'afterward', '“this', 'dishonest', 'speech', 'ever', 'given”', 'may', 'also', 'dangerous', 'want', 'articles', 'like', 'follow', 'think', 'instagram', 'get', 'updates', 'weeks', 'important', 'political', 'analysis', 'whiff', 'richard', 'nixon', 'thing', '—', 'maudlin', 'rambling', 'tricky', 'dick’s', 'farewell', 'speech', 'white', 'house', 'staff', 'liberated', 'pugilism', 'famous', '“last', 'press', 'conference”', 'warned', 'media', '“you', 'won’t', 'nixon', 'kick', 'around', 'anymore”', 'except', 'trump', 'took', 'opposite', 'tack', 'instead', 'stalking', 'shadows', 'swore', 'stand', 'ground', '—', 'burn', 'behind', 'perhaps', 'first', 'flares', 'last', 'campaign', 'great', 'war', 'washington', '—', 'one', 'scorched', 'earth', 'settled', 'scores', 'laid', 'markers', 'demanded', 'rest', 'gop', 'allies', 'fall', 'line', 'supposed', 'alpha', 'male', 'us', 'politics', 'trump', 'could', 'use', 'fear', 'wrath', 'twitter', 'account', 'base', 'command', 'republicans’', 'loyalty', 'loser', 'enddate', 'lines', 'drawn', 'even', 'within', 'party', 'trump’s', 'adult', 'sons', 'positioned', 'daddy’s', 'chief', 'loyalty', 'officers', 'calling', 'republicans', 'general', 'name', 'manning', 'ramparts', 'handful', 'spoken', 'calm', 'patience', 'democracy', '—', 'laying', 'low', 'trying', 'skate', 'latest', 'trump', 'outrage', 'largely', 'four', 'years', 'others', 'seemingly', 'prepared', 'abet', 'trump’s', 'political', 'pyromania', 'california’s', 'kevin', 'mccarthy', 'vapid', 'house', 'republican', 'leader', 'declared', 'fox', 'news', 'trump', 'won', 'election', 'exhorted', 'viewers', '“not', 'silent', 'this”', 'even', 'short', 'direct', 'threat', 'system', 'trump’s', 'ravings', 'actively', 'harming', 'republic', 'sen', 'lindsey', 'graham', 'rsc', 'assumed', 'familiar', 'posture', 'supplication', 'asked', 'fox’s', 'sean', 'hannity', 'whether', 'gopcontrolled', 'legislatures', 'states', 'biden', 'seemingly', 'won', 'award', 'state’s', 'electors', 'trump', 'instead', 'responded', '“everything', 'table”', 'would', 'historic', 'frontal', 'assault', 'foundational', 'concept', 'government', 'people', 'people', 'people', 'fact', 'it’s', 'already', 'moved', 'far', 'fringes', 'onto', 'fox', 'news', '—', 'mainstream', 'media', 'right', '—', 'horrifying', 'even', 'short', 'direct', 'threat', 'system', 'trump’s', 'ravings', 'actively', 'harming', 'republic', 'nearly', '70', 'million', 'americans', 'cast', 'ballots', 'narcissistic', 'nihilist', 'absence', 'success', 'nontrivial', 'number', 'grimly', 'choose', 'dear', 'leader', 'lying', 'eyes', 'see', 'protests', 'votecounting', 'sites', 'michigan', 'arizona', 'legions', 'desperate', 'angry', 'enough', 'absorb', 'whatever', 'bile', 'trump', 'feeds', 'see', 'reports', 'philadelphia', 'police', 'thursday', 'night', 'foiling', 'attack', 'votecounters', '“there', 'one', 'essential', 'institution', 'country', 'one', 'rampart', 'separates', 'order', 'chaos', 'ballot', 'box”', 'politico’s', 'tim', 'alberta', 'tweeted', 'thursday', 'adding', 'warning', '“we', 'cannot', 'begin', 'fathom', 'much', 'damage', 'speech', 'longterm', 'health', 'stability', 'country”', 'recommended', 'opinion', 'fled', 'dictatorship', 'vote', 'would', 'count', 'bidens', 'win', 'proves', 'opinion', 'legally', 'trump', 'doesnt', 'concede', '—', 'symbolically', 'vital', 'anyway', 'could', 'known', 'would', 'come', 'trump', 'never', 'changed', '—', 'since', 'tuesday', 'since', 'assumed', 'presidency', 'still', 'blustering', 'bullying', 'carnivalbarker', 'indifferent', 'facts', 'truth', 'still', 'thinks', 'anything', 'less', 'fawning', 'adulation', 'slight', 'must', 'met', 'counterpunch', 'he’s', 'still', 'ultimate', 'norman', 'vincent', 'peale', 'powerofpositivethinking', 'huckster', 'whose', 'salespitch', 'unstoppable', 'success']\n"
     ]
    }
   ],
   "source": [
    "# Removing stop words from the tokenized words list\n",
    "final_words = []\n",
    "for word in tokenized_words:\n",
    "    if word not in stop_words:\n",
    "        final_words.append(word)\n",
    "print(final_words)"
   ]
  },
  {
   "cell_type": "code",
   "execution_count": 7,
   "metadata": {},
   "outputs": [
    {
     "name": "stdout",
     "output_type": "stream",
     "text": [
      "[' angry', ' safe', ' happy', ' sad', ' happy', ' bored', ' sad']\n",
      "Counter({' happy': 2, ' sad': 2, ' angry': 1, ' safe': 1, ' bored': 1})\n"
     ]
    }
   ],
   "source": [
    "# NLP Emotion Algorithm\n",
    "# 1) Check if the word in the final word list is also present in emotion.txt\n",
    "#  - open the emotion file\n",
    "#  - Loop through each line and clear it\n",
    "#  - Extract the word and emotion using split\n",
    "\n",
    "# 2) If word is present -> Add the emotion to emotion_list\n",
    "# 3) Finally count each emotion in the emotion list\n",
    "\n",
    "emotion_list = []\n",
    "with open('emotions.txt', 'r') as file:\n",
    "    for line in file:\n",
    "        clear_line = line.replace(\"\\n\", '').replace(\",\", '').replace(\"'\", '').strip()\n",
    "        word, emotion = clear_line.split(':')\n",
    "        #print(\"Word: \" + word +\" \" + \"Emotion: \" + emotion )\n",
    "\n",
    "        if word in final_words:\n",
    "            emotion_list.append(emotion)\n",
    "\n",
    "print(emotion_list)\n",
    "w = Counter(emotion_list)\n",
    "print(w)"
   ]
  },
  {
   "cell_type": "code",
   "execution_count": 8,
   "metadata": {},
   "outputs": [
    {
     "data": {
      "image/png": "[encoded data removed]",
      "text/plain": [
       "<Figure size 432x288 with 1 Axes>"
      ]
     },
     "metadata": {
      "needs_background": "light"
     },
     "output_type": "display_data"
    }
   ],
   "source": [
    "# Plotting the emotions on the graph\n",
    "\n",
    "fig, ax1 = plt.subplots()\n",
    "ax1.bar(w.keys(), w.values())\n",
    "fig.autofmt_xdate()\n",
    "plt.savefig('graph.png')\n",
    "plt.title('Donald Trump Speech: A Sentiment Analysis Using Python')\n",
    "plt.show()"
   ]
  },
  {
   "cell_type": "code",
   "execution_count": null,
   "metadata": {},
   "outputs": [],
   "source": []
  },
  {
   "cell_type": "code",
   "execution_count": null,
   "metadata": {},
   "outputs": [],
   "source": []
  }
 ],
 "metadata": {
  "kernelspec": {
   "display_name": "Python 3",
   "language": "python",
   "name": "python3"
  },
  "language_info": {
   "codemirror_mode": {
    "name": "ipython",
    "version": 3
   },
   "file_extension": ".py",
   "mimetype": "text/x-python",
   "name": "python",
   "nbconvert_exporter": "python",
   "pygments_lexer": "ipython3",
   "version": "3.7.4"
  }
 },
 "nbformat": 4,
 "nbformat_minor": 2
}
